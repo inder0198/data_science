{
 "cells": [
  {
   "cell_type": "markdown",
   "id": "0e9d937f",
   "metadata": {},
   "source": [
    "# Numpy Tutorial"
   ]
  },
  {
   "cell_type": "code",
   "execution_count": 1,
   "id": "3d247fc5",
   "metadata": {},
   "outputs": [
    {
     "name": "stdout",
     "output_type": "stream",
     "text": [
      "[ 5 21  7]\n"
     ]
    }
   ],
   "source": [
    "#numpy math modules\n",
    "import numpy as np\n",
    "m1=np.array([5,21,7])\n",
    "print(m1)"
   ]
  },
  {
   "cell_type": "code",
   "execution_count": 2,
   "id": "e4a8ed83",
   "metadata": {},
   "outputs": [
    {
     "name": "stdout",
     "output_type": "stream",
     "text": [
      "[[1 2 3]\n",
      " [4 5 6]]\n"
     ]
    }
   ],
   "source": [
    "m2=np.array([(1,2,3),(4,5,6)])\n",
    "print (m2)"
   ]
  },
  {
   "cell_type": "code",
   "execution_count": 5,
   "id": "f1861b15",
   "metadata": {},
   "outputs": [
    {
     "data": {
      "text/plain": [
       "5"
      ]
     },
     "execution_count": 5,
     "metadata": {},
     "output_type": "execute_result"
    }
   ],
   "source": [
    "m1[0]\n"
   ]
  },
  {
   "cell_type": "code",
   "execution_count": 6,
   "id": "bba42b5c",
   "metadata": {},
   "outputs": [
    {
     "data": {
      "text/plain": [
       "6"
      ]
     },
     "execution_count": 6,
     "metadata": {},
     "output_type": "execute_result"
    }
   ],
   "source": [
    "m2[1,2]"
   ]
  },
  {
   "cell_type": "markdown",
   "id": "d28e0b3f",
   "metadata": {},
   "source": [
    "# zeros method"
   ]
  },
  {
   "cell_type": "code",
   "execution_count": 8,
   "id": "2c2d4178",
   "metadata": {},
   "outputs": [
    {
     "name": "stdout",
     "output_type": "stream",
     "text": [
      "[0. 0. 0.]\n"
     ]
    }
   ],
   "source": [
    "m3=np.zeros(3)\n",
    "print(m3)"
   ]
  },
  {
   "cell_type": "code",
   "execution_count": 41,
   "id": "e6d218c6",
   "metadata": {},
   "outputs": [
    {
     "name": "stdout",
     "output_type": "stream",
     "text": [
      "[[0 0 0]\n",
      " [0 0 0]\n",
      " [0 0 0]]\n"
     ]
    }
   ],
   "source": [
    "m4=np.zeros((3,3),dtype=int)\n",
    "print(m4)"
   ]
  },
  {
   "cell_type": "code",
   "execution_count": 11,
   "id": "7bb32ba4",
   "metadata": {},
   "outputs": [
    {
     "name": "stdout",
     "output_type": "stream",
     "text": [
      "[[[0. 0. 0. 0.]\n",
      "  [0. 0. 0. 0.]\n",
      "  [0. 0. 0. 0.]]\n",
      "\n",
      " [[0. 0. 0. 0.]\n",
      "  [0. 0. 0. 0.]\n",
      "  [0. 0. 0. 0.]]]\n"
     ]
    }
   ],
   "source": [
    "m5=np.zeros((2,3,4))\n",
    "print(m5)"
   ]
  },
  {
   "cell_type": "markdown",
   "id": "859868e5",
   "metadata": {},
   "source": [
    "# ones method"
   ]
  },
  {
   "cell_type": "code",
   "execution_count": 12,
   "id": "b0b56b1d",
   "metadata": {},
   "outputs": [
    {
     "name": "stdout",
     "output_type": "stream",
     "text": [
      "[1. 1. 1.]\n"
     ]
    }
   ],
   "source": [
    "m6=np.ones(3)\n",
    "print(m6)"
   ]
  },
  {
   "cell_type": "code",
   "execution_count": 13,
   "id": "2e28aa63",
   "metadata": {},
   "outputs": [
    {
     "name": "stdout",
     "output_type": "stream",
     "text": [
      "[[1. 1. 1.]\n",
      " [1. 1. 1.]\n",
      " [1. 1. 1.]]\n"
     ]
    }
   ],
   "source": [
    "m7=np.ones((3,3))\n",
    "print(m7)"
   ]
  },
  {
   "cell_type": "code",
   "execution_count": 14,
   "id": "5f5585c8",
   "metadata": {},
   "outputs": [
    {
     "name": "stdout",
     "output_type": "stream",
     "text": [
      "[[[1. 1. 1. 1.]\n",
      "  [1. 1. 1. 1.]\n",
      "  [1. 1. 1. 1.]]\n",
      "\n",
      " [[1. 1. 1. 1.]\n",
      "  [1. 1. 1. 1.]\n",
      "  [1. 1. 1. 1.]]]\n"
     ]
    }
   ],
   "source": [
    "m8=np.ones((2,3,4))\n",
    "print(m8)"
   ]
  },
  {
   "cell_type": "markdown",
   "id": "9f40d099",
   "metadata": {},
   "source": [
    "# full method"
   ]
  },
  {
   "cell_type": "code",
   "execution_count": 15,
   "id": "ee4e3fb6",
   "metadata": {},
   "outputs": [
    {
     "name": "stdout",
     "output_type": "stream",
     "text": [
      "[[5 5 5]\n",
      " [5 5 5]\n",
      " [5 5 5]]\n"
     ]
    }
   ],
   "source": [
    "m9=np.full((3,3),5)\n",
    "print(m9)"
   ]
  },
  {
   "cell_type": "markdown",
   "id": "473657e7",
   "metadata": {},
   "source": [
    "# eyes method"
   ]
  },
  {
   "cell_type": "code",
   "execution_count": 16,
   "id": "db69de20",
   "metadata": {},
   "outputs": [
    {
     "name": "stdout",
     "output_type": "stream",
     "text": [
      "[[1. 0. 0.]\n",
      " [0. 1. 0.]\n",
      " [0. 0. 1.]]\n"
     ]
    }
   ],
   "source": [
    "m10=np.eye((3))\n",
    "print(m10)"
   ]
  },
  {
   "cell_type": "markdown",
   "id": "ff5e34fb",
   "metadata": {},
   "source": [
    "# create 4x4 in diagonal 5"
   ]
  },
  {
   "cell_type": "code",
   "execution_count": 24,
   "id": "5158eb54",
   "metadata": {},
   "outputs": [
    {
     "name": "stdout",
     "output_type": "stream",
     "text": [
      "[[5 0 0 0]\n",
      " [0 5 0 0]\n",
      " [0 0 5 0]\n",
      " [0 0 0 5]]\n"
     ]
    }
   ],
   "source": [
    "m11=np.zeros((4,4),int)\n",
    "np.fill_diagonal(m11,5)\n",
    "print(m11)"
   ]
  },
  {
   "cell_type": "code",
   "execution_count": 23,
   "id": "022e51e6",
   "metadata": {},
   "outputs": [
    {
     "name": "stdout",
     "output_type": "stream",
     "text": [
      "[[1. 0. 0. 0.]\n",
      " [0. 1. 0. 0.]\n",
      " [0. 0. 1. 0.]\n",
      " [0. 0. 0. 1.]]\n",
      "[[5. 0. 0. 0.]\n",
      " [0. 5. 0. 0.]\n",
      " [0. 0. 5. 0.]\n",
      " [0. 0. 0. 5.]]\n"
     ]
    }
   ],
   "source": [
    "m12 = np.eye((4))\n",
    "print(m12)\n",
    "for i in range(4):\n",
    "    for j in range(4):\n",
    "        if m12[i][j] == 1.0:\n",
    "            m12[i][j]=5.0\n",
    "print(m12)"
   ]
  },
  {
   "cell_type": "markdown",
   "id": "99e3b338",
   "metadata": {},
   "source": [
    "# add and subtract of two matrix from user input"
   ]
  },
  {
   "cell_type": "code",
   "execution_count": 25,
   "id": "259af3e9",
   "metadata": {},
   "outputs": [
    {
     "name": "stdout",
     "output_type": "stream",
     "text": [
      "enter row:3\n",
      "enter column:3\n",
      "matrix1\n",
      "enter values:1\n",
      "enter values:2\n",
      "enter values:3\n",
      "enter values:4\n",
      "enter values:5\n",
      "enter values:6\n",
      "enter values:7\n",
      "enter values:8\n",
      "enter values:9\n",
      "matrix2\n",
      "enter values:1\n",
      "enter values:2\n",
      "enter values:3\n",
      "enter values:4\n",
      "enter values:5\n",
      "enter values:6\n",
      "enter values:7\n",
      "enter values:8\n",
      "enter values:9\n",
      "[[1. 2. 3.]\n",
      " [4. 5. 6.]\n",
      " [7. 8. 9.]]\n",
      "[[1. 2. 3.]\n",
      " [4. 5. 6.]\n",
      " [7. 8. 9.]]\n",
      "[[ 2.  4.  6.]\n",
      " [ 8. 10. 12.]\n",
      " [14. 16. 18.]]\n",
      "[[0. 0. 0.]\n",
      " [0. 0. 0.]\n",
      " [0. 0. 0.]]\n"
     ]
    }
   ],
   "source": [
    "r=int(input(\"enter row:\"))\n",
    "c=int(input(\"enter column:\"))\n",
    "m1=np.zeros((r,c))\n",
    "m2=np.zeros((r,c))\n",
    "print(\"matrix1\")\n",
    "for i in range (r):\n",
    "    for j in range (c):\n",
    "        v=int(input(\"enter values:\"))\n",
    "        m1[i,j]=v\n",
    "print(\"matrix2\")\n",
    "for i in range (r):\n",
    "    for j in range (c):\n",
    "        v=int(input(\"enter values:\"))\n",
    "        m2[i,j]=v\n",
    "print(m1)\n",
    "print(m2)\n",
    "#addition of two matrices\n",
    "print(m1+m2)\n",
    "#subtraction of two matrices\n",
    "print(m1-m2)"
   ]
  },
  {
   "cell_type": "markdown",
   "id": "7cdd3b10",
   "metadata": {},
   "source": [
    "# operations"
   ]
  },
  {
   "cell_type": "code",
   "execution_count": 27,
   "id": "66c747f6",
   "metadata": {},
   "outputs": [
    {
     "name": "stdout",
     "output_type": "stream",
     "text": [
      "[[3 6 7]\n",
      " [5 8 9]]\n"
     ]
    }
   ],
   "source": [
    "#sort\n",
    "m13=np.array([(6,3,7),(9,5,8)])\n",
    "m13.sort()\n",
    "print (m13)"
   ]
  },
  {
   "cell_type": "code",
   "execution_count": 80,
   "id": "6974ee1c",
   "metadata": {},
   "outputs": [
    {
     "name": "stdout",
     "output_type": "stream",
     "text": [
      "[[[ 1  2]\n",
      "  [ 3  4]\n",
      "  [ 5  6]]\n",
      "\n",
      " [[ 7  8]\n",
      "  [ 9 10]\n",
      "  [11 12]]]\n",
      "[[1 2 3]\n",
      " [4 5 6]\n",
      " [7 8 9]]\n"
     ]
    }
   ],
   "source": [
    "#reshape() learn\n",
    "m14 = np.array([1, 2, 3, 4, 5, 6, 7, 8, 9, 10, 11, 12])\n",
    "m141 = m14.reshape(2, 3, 2)\n",
    "print(m141)\n",
    "\n",
    "m14 = np.array([1, 2, 3, 4, 5, 6, 7, 8, 9])\n",
    "m141 = m14.reshape(3, 3)\n",
    "print(m141)"
   ]
  },
  {
   "cell_type": "code",
   "execution_count": 45,
   "id": "1bc90648",
   "metadata": {},
   "outputs": [
    {
     "name": "stdout",
     "output_type": "stream",
     "text": [
      "[1 3 6 5]\n",
      "[1 3 6 5 7]\n"
     ]
    }
   ],
   "source": [
    "#append\n",
    "m15=np.array([1,3,6])\n",
    "m15=np.append(m15,5)\n",
    "print(m15)\n",
    "m15=np.append(m15,7)\n",
    "print(m15)"
   ]
  },
  {
   "cell_type": "code",
   "execution_count": 46,
   "id": "e1da7bae",
   "metadata": {},
   "outputs": [
    {
     "name": "stdout",
     "output_type": "stream",
     "text": [
      "[1 3 9 6]\n"
     ]
    }
   ],
   "source": [
    "#insert\n",
    "m16=np.array([1,3,6])\n",
    "m16=np.insert(m16,2,9)\n",
    "print(m16)"
   ]
  },
  {
   "cell_type": "code",
   "execution_count": 49,
   "id": "0f5be7c5",
   "metadata": {},
   "outputs": [
    {
     "name": "stdout",
     "output_type": "stream",
     "text": [
      "[1 2 4 5 6 7 8 9]\n"
     ]
    }
   ],
   "source": [
    "#delete\n",
    "m17=np.array([1,2,3,4,5,6,7,8,9])\n",
    "m17=np.delete(m17,2,axis=0)\n",
    "print(m17)"
   ]
  },
  {
   "cell_type": "code",
   "execution_count": 82,
   "id": "5040b20e",
   "metadata": {},
   "outputs": [
    {
     "name": "stdout",
     "output_type": "stream",
     "text": [
      "[array([1, 2, 3]), array([4, 5, 6]), array([7, 8, 9])]\n"
     ]
    }
   ],
   "source": [
    "#split\n",
    "arr = np.array([1, 2, 3, 4, 5, 6,7,8,9])\n",
    "newarr = np.array_split(arr, 3)\n",
    "print(newarr)"
   ]
  },
  {
   "cell_type": "code",
   "execution_count": 61,
   "id": "839678b6",
   "metadata": {},
   "outputs": [
    {
     "name": "stdout",
     "output_type": "stream",
     "text": [
      "[[0.55130189 0.36585478 0.87878862]\n",
      " [0.96644059 0.48028255 0.02236025]\n",
      " [0.06407628 0.16067688 0.12230022]]\n"
     ]
    }
   ],
   "source": [
    "#random\n",
    "m20=np.random.rand(3,3)\n",
    "print(m20)"
   ]
  },
  {
   "cell_type": "code",
   "execution_count": 65,
   "id": "660fc7d5",
   "metadata": {},
   "outputs": [
    {
     "name": "stdout",
     "output_type": "stream",
     "text": [
      "[1 2]\n",
      "[3 4 5 6 7 8 9]\n",
      "[1 2 3]\n"
     ]
    }
   ],
   "source": [
    "m21=np.array([1,2,3,4,5,6,7,8,9])\n",
    "print(m21[0:2])\n",
    "print(m21[2:])\n",
    "print(m21[:3])"
   ]
  },
  {
   "cell_type": "code",
   "execution_count": 84,
   "id": "31bdf2b9",
   "metadata": {},
   "outputs": [
    {
     "name": "stdout",
     "output_type": "stream",
     "text": [
      "[[0.21421592 0.99512004 0.61712677 0.29529513 0.22808171]\n",
      " [0.84346232 0.50647448 0.03662679 0.76262934 0.82143113]\n",
      " [0.77749108 0.81284129 0.20204646 0.40907921 0.58349556]\n",
      " [0.01218201 0.66534427 0.88939818 0.79341778 0.95655777]\n",
      " [0.90989475 0.18345612 0.28562036 0.27225467 0.43227738]]\n",
      "[0.22808171 0.82143113 0.58349556]\n",
      "[0.22808171 0.82143113 0.58349556 0.95655777 0.43227738]\n",
      "[[0.01218201 0.66534427 0.88939818]]\n",
      "[0.03662679 0.20204646]\n"
     ]
    }
   ],
   "source": [
    "rmat=np.random.rand(5,5)\n",
    "print(rmat)\n",
    "print(rmat[0:3,4])\n",
    "print(rmat[:,4])\n",
    "print(rmat[[3],:3])\n",
    "print(rmat[1:3,2])"
   ]
  },
  {
   "cell_type": "code",
   "execution_count": 76,
   "id": "741a59af",
   "metadata": {},
   "outputs": [
    {
     "name": "stdout",
     "output_type": "stream",
     "text": [
      "131\n",
      "1\n",
      "77\n",
      "21.833333333333332\n"
     ]
    }
   ],
   "source": [
    "#aggregate function( sum, mean, median, max , min )\n",
    "m22=np.array([1,4,77,3,2,44])\n",
    "print(m22.sum())\n",
    "print(m22.min())\n",
    "print(m22.max())\n",
    "print(m22.mean())"
   ]
  },
  {
   "cell_type": "code",
   "execution_count": 77,
   "id": "767d0309",
   "metadata": {},
   "outputs": [
    {
     "name": "stdout",
     "output_type": "stream",
     "text": [
      "[[0.51349537 0.2477947  0.86240824 0.1215741  0.56612966]\n",
      " [0.07702434 0.92258689 0.49611127 0.55598367 0.32944176]\n",
      " [0.09466702 0.87204917 0.07151956 0.62634591 0.29211937]\n",
      " [0.26621993 0.20826764 0.01881393 0.78054938 0.87142616]\n",
      " [0.60514335 0.10604477 0.25667806 0.64230467 0.87109609]\n",
      " [0.80111778 0.97937359 0.1289729  0.52286852 0.57246353]\n",
      " [0.58025418 0.76863855 0.80999834 0.39537468 0.98293569]\n",
      " [0.73044475 0.53602407 0.76266896 0.12779568 0.96361713]\n",
      " [0.99530877 0.33001787 0.23934561 0.28159223 0.6825303 ]\n",
      " [0.80165381 0.35043029 0.08248615 0.94078974 0.79081518]]\n"
     ]
    }
   ],
   "source": [
    "demo=np.random.rand(10,5)\n",
    "print(demo)"
   ]
  },
  {
   "cell_type": "code",
   "execution_count": 78,
   "id": "cde031cf",
   "metadata": {},
   "outputs": [
    {
     "name": "stdout",
     "output_type": "stream",
     "text": [
      "0.9953087677197461\n"
     ]
    }
   ],
   "source": [
    "print(demo.max())"
   ]
  },
  {
   "cell_type": "code",
   "execution_count": 88,
   "id": "5594cdc8",
   "metadata": {},
   "outputs": [],
   "source": [
    "import cv2\n",
    "import numpy as np\n",
    "\n",
    "img = cv2.imread('home.jpg')\n",
    "res = cv2.resize(img, dsize=(54, 140), interpolation=cv2.INTER_CUBIC)"
   ]
  },
  {
   "cell_type": "code",
   "execution_count": 90,
   "id": "3f1aa672",
   "metadata": {},
   "outputs": [],
   "source": [
    "#get image and resize to (600x600)\n",
    "from PIL import Image\n",
    "#Open image using Image module\n",
    "im = Image.open(\"home.jpg\")\n",
    "#Show actual Image\n",
    "im.show()\n",
    "#Show rotated Image\n",
    "im = im.resize((600,600))\n",
    "im.show()"
   ]
  },
  {
   "cell_type": "code",
   "execution_count": null,
   "id": "b5f6056a",
   "metadata": {},
   "outputs": [],
   "source": []
  }
 ],
 "metadata": {
  "kernelspec": {
   "display_name": "Python 3",
   "language": "python",
   "name": "python3"
  },
  "language_info": {
   "codemirror_mode": {
    "name": "ipython",
    "version": 3
   },
   "file_extension": ".py",
   "mimetype": "text/x-python",
   "name": "python",
   "nbconvert_exporter": "python",
   "pygments_lexer": "ipython3",
   "version": "3.9.2"
  }
 },
 "nbformat": 4,
 "nbformat_minor": 5
}
